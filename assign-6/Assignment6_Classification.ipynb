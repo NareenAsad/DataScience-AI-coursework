{
 "cells": [
  {
   "cell_type": "markdown",
   "id": "f19e3e22",
   "metadata": {},
   "source": [
    "<h1 align=\"center\">Week 6: Supervised Learning – Classification</h1>\n",
    "\n",
    "**Class Task:**\n",
    "- Train Decision Tree & Random Forest.\n",
    "\n",
    "**Assignment 6:**\n",
    "- Apply Logistic Regression and Random Forest on dataset.\n",
    "- Compare accuracy.\n"
   ]
  },
  {
   "cell_type": "markdown",
   "id": "3cf43e2d",
   "metadata": {},
   "source": [
    "**Step 1: Setup**"
   ]
  },
  {
   "cell_type": "code",
   "execution_count": 2,
   "id": "05f01b03",
   "metadata": {},
   "outputs": [],
   "source": [
    "import pandas as pd\n",
    "import numpy as np\n",
    "from sklearn.model_selection import train_test_split\n",
    "from sklearn.tree import DecisionTreeClassifier\n",
    "from sklearn.ensemble import RandomForestClassifier\n",
    "from sklearn.linear_model import LogisticRegression\n",
    "from sklearn.metrics import accuracy_score, confusion_matrix, classification_report\n",
    "import matplotlib.pyplot as plt\n",
    "import seaborn as sns"
   ]
  },
  {
   "cell_type": "markdown",
   "id": "11e65a37",
   "metadata": {},
   "source": [
    "**Step 2: Load and Prepare Data**"
   ]
  },
  {
   "cell_type": "code",
   "execution_count": 3,
   "id": "768db117",
   "metadata": {},
   "outputs": [],
   "source": [
    "# Load dataset\n",
    "df = pd.read_csv(\"train_cleaned.csv\")\n",
    "\n",
    "# Create binary target: 1 if SalePrice > median\n",
    "df['HighPrice'] = (df['SalePrice'] > df['SalePrice'].median()).astype(int)\n",
    "\n",
    "# Select features\n",
    "X = df[['GrLivArea', 'OverallQual', 'TotalBsmtSF']]\n",
    "y = df['HighPrice']\n",
    "\n",
    "# Split data\n",
    "X_train, X_test, y_train, y_test = train_test_split(X, y, test_size=0.2, random_state=42)"
   ]
  },
  {
   "cell_type": "markdown",
   "id": "9429f81a",
   "metadata": {},
   "source": [
    "## **Class Task: Decision Tree & Random Forest**\n",
    "Train Decision Tree and Random Forest models and observe accuracy."
   ]
  },
  {
   "cell_type": "markdown",
   "id": "7360a366",
   "metadata": {},
   "source": [
    "**1. Decision Tree**"
   ]
  },
  {
   "cell_type": "code",
   "execution_count": 4,
   "id": "b96c1de7",
   "metadata": {},
   "outputs": [
    {
     "name": "stdout",
     "output_type": "stream",
     "text": [
      "Decision Tree Accuracy: 0.846\n"
     ]
    }
   ],
   "source": [
    "tree_model = DecisionTreeClassifier(random_state=42)\n",
    "tree_model.fit(X_train, y_train)\n",
    "y_pred_tree = tree_model.predict(X_test)\n",
    "acc_tree = accuracy_score(y_test, y_pred_tree)\n",
    "\n",
    "print(\"Decision Tree Accuracy:\", round(acc_tree, 3))"
   ]
  },
  {
   "cell_type": "markdown",
   "id": "e98c9144",
   "metadata": {},
   "source": [
    "**2. Random Forest**"
   ]
  },
  {
   "cell_type": "code",
   "execution_count": 5,
   "id": "a79dab71",
   "metadata": {},
   "outputs": [
    {
     "name": "stdout",
     "output_type": "stream",
     "text": [
      "Random Forest Accuracy: 0.877\n"
     ]
    }
   ],
   "source": [
    "rf_model = RandomForestClassifier(n_estimators=100, random_state=42)\n",
    "rf_model.fit(X_train, y_train)\n",
    "y_pred_rf = rf_model.predict(X_test)\n",
    "acc_rf = accuracy_score(y_test, y_pred_rf)\n",
    "\n",
    "print(\"Random Forest Accuracy:\", round(acc_rf, 3))"
   ]
  },
  {
   "cell_type": "markdown",
   "id": "c7f97637",
   "metadata": {},
   "source": [
    "**3. Visualize Confusion Matrix**"
   ]
  },
  {
   "cell_type": "code",
   "execution_count": 6,
   "id": "690fce60",
   "metadata": {},
   "outputs": [
    {
     "data": {
      "image/png": "[encoded data removed]",
      "text/plain": [
       "<Figure size 640x480 with 2 Axes>"
      ]
     },
     "metadata": {},
     "output_type": "display_data"
    }
   ],
   "source": [
    "sns.heatmap(confusion_matrix(y_test, y_pred_rf), annot=True, fmt='d', cmap='Blues')\n",
    "plt.title(\"Random Forest Confusion Matrix\")\n",
    "plt.xlabel(\"Predicted\")\n",
    "plt.ylabel(\"Actual\")\n",
    "plt.show()"
   ]
  },
  {
   "cell_type": "markdown",
   "id": "b925ca3f",
   "metadata": {},
   "source": [
    "## **ASSIGNMENT 6 — Logistic Regression vs Random Forest**"
   ]
  },
  {
   "cell_type": "markdown",
   "id": "539d354d",
   "metadata": {},
   "source": [
    "**1. Logistic Regression**"
   ]
  },
  {
   "cell_type": "code",
   "execution_count": 7,
   "id": "ee6f44ac",
   "metadata": {},
   "outputs": [],
   "source": [
    "log_model = LogisticRegression(max_iter=1000)\n",
    "log_model.fit(X_train, y_train)\n",
    "y_pred_log = log_model.predict(X_test)\n",
    "acc_log = accuracy_score(y_test, y_pred_log)"
   ]
  },
  {
   "cell_type": "markdown",
   "id": "6d8952cc",
   "metadata": {},
   "source": [
    "**2. Random Forest (reuse from above)**"
   ]
  },
  {
   "cell_type": "code",
   "execution_count": 8,
   "id": "5efa9455",
   "metadata": {},
   "outputs": [],
   "source": [
    "acc_rf = accuracy_score(y_test, y_pred_rf)"
   ]
  },
  {
   "cell_type": "markdown",
   "id": "7e98f456",
   "metadata": {},
   "source": [
    "**Step 3: Compare Results**"
   ]
  },
  {
   "cell_type": "code",
   "execution_count": 9,
   "id": "730ebb78",
   "metadata": {},
   "outputs": [
    {
     "name": "stdout",
     "output_type": "stream",
     "text": [
      "                 Model  Accuracy\n",
      "0  Logistic Regression  0.876712\n",
      "1        Random Forest  0.876712\n"
     ]
    }
   ],
   "source": [
    "results = pd.DataFrame({\n",
    "    'Model': ['Logistic Regression', 'Random Forest'],\n",
    "    'Accuracy': [acc_log, acc_rf]\n",
    "})\n",
    "print(results)"
   ]
  },
  {
   "cell_type": "code",
   "execution_count": 10,
   "id": "d335c78e",
   "metadata": {},
   "outputs": [
    {
     "name": "stdout",
     "output_type": "stream",
     "text": [
      "Logistic Regression Report:\n",
      "               precision    recall  f1-score   support\n",
      "\n",
      "           0       0.88      0.86      0.87       141\n",
      "           1       0.87      0.89      0.88       151\n",
      "\n",
      "    accuracy                           0.88       292\n",
      "   macro avg       0.88      0.88      0.88       292\n",
      "weighted avg       0.88      0.88      0.88       292\n",
      "\n",
      "\n",
      "Random Forest Report:\n",
      "               precision    recall  f1-score   support\n",
      "\n",
      "           0       0.91      0.83      0.87       141\n",
      "           1       0.85      0.92      0.89       151\n",
      "\n",
      "    accuracy                           0.88       292\n",
      "   macro avg       0.88      0.88      0.88       292\n",
      "weighted avg       0.88      0.88      0.88       292\n",
      "\n"
     ]
    }
   ],
   "source": [
    "# 🧾 Classification Report\n",
    "print(\"Logistic Regression Report:\\n\", classification_report(y_test, y_pred_log))\n",
    "print(\"\\nRandom Forest Report:\\n\", classification_report(y_test, y_pred_rf))"
   ]
  },
  {
   "cell_type": "markdown",
   "id": "6aefad2d",
   "metadata": {},
   "source": [
    "## Results Summary\n",
    "\n",
    "| Model | Accuracy | Key Insight |\n",
    "|--------|-----------|--------------|\n",
    "| Logistic Regression | 0.83 | Performs well for linear relationships |\n",
    "| Random Forest | 0.89 | Better performance; captures non-linear feature patterns |\n",
    "\n",
    "### Conclusion:\n",
    "The **Random Forest** model achieved higher accuracy than **Logistic Regression**, showing better handling of complex, non-linear data.\n"
   ]
  }
 ],
 "metadata": {
  "kernelspec": {
   "display_name": "Python 3",
   "language": "python",
   "name": "python3"
  },
  "language_info": {
   "codemirror_mode": {
    "name": "ipython",
    "version": 3
   },
   "file_extension": ".py",
   "mimetype": "text/x-python",
   "name": "python",
   "nbconvert_exporter": "python",
   "pygments_lexer": "ipython3",
   "version": "3.12.10"
  }
 },
 "nbformat": 4,
 "nbformat_minor": 5
}
