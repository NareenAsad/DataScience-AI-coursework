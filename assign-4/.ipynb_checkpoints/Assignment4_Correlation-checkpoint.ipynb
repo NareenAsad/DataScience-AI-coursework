{
 "cells": [
  {
   "cell_type": "markdown",
   "id": "6d2197d7-0720-4083-822c-cefca82ac0f0",
   "metadata": {},
   "source": [
    "**Class Task – Basic Statistics**\n",
    "\n",
    "* Calculate mean, median, mode, variance, correlation."
   ]
  },
  {
   "cell_type": "code",
   "execution_count": 4,
   "id": "97a45435-71c3-4abf-8b4c-1e491e712ae4",
   "metadata": {},
   "outputs": [
    {
     "name": "stdout",
     "output_type": "stream",
     "text": [
      "Mean SalePrice: 180932.91906721535\n"
     ]
    }
   ],
   "source": [
    "import pandas as pd\n",
    "import numpy as np\n",
    "\n",
    "# Load cleaned dataset\n",
    "df = pd.read_csv(\"train_cleaned.csv\")\n",
    "\n",
    "# Mean\n",
    "print(\"Mean SalePrice:\", df['SalePrice'].mean())"
   ]
  },
  {
   "cell_type": "code",
   "execution_count": 6,
   "id": "cfd5e539-ecde-49be-8355-f5f9ea00920e",
   "metadata": {},
   "outputs": [
    {
     "name": "stdout",
     "output_type": "stream",
     "text": [
      "Median SalePrice: 163000.0\n"
     ]
    }
   ],
   "source": [
    "# Median\n",
    "print(\"Median SalePrice:\", df['SalePrice'].median())"
   ]
  },
  {
   "cell_type": "code",
   "execution_count": 8,
   "id": "8c435887-bef6-48ad-9d18-bbb39a05ce75",
   "metadata": {},
   "outputs": [
    {
     "name": "stdout",
     "output_type": "stream",
     "text": [
      "Mode SalePrice: 140000\n"
     ]
    }
   ],
   "source": [
    "# Mode\n",
    "print(\"Mode SalePrice:\", df['SalePrice'].mode()[0])"
   ]
  },
  {
   "cell_type": "code",
   "execution_count": 10,
   "id": "647b82ee-7ef0-4407-9ce2-5860cec4a315",
   "metadata": {},
   "outputs": [
    {
     "name": "stdout",
     "output_type": "stream",
     "text": [
      "Variance SalePrice: 6319463814.72508\n"
     ]
    }
   ],
   "source": [
    "# Variance\n",
    "print(\"Variance SalePrice:\", df['SalePrice'].var())"
   ]
  },
  {
   "cell_type": "code",
   "execution_count": 12,
   "id": "6bb0f0f7-f2dc-427f-9690-d0e5e5dacdbd",
   "metadata": {},
   "outputs": [
    {
     "name": "stdout",
     "output_type": "stream",
     "text": [
      "\n",
      "Correlation Matrix:\n",
      "                      Id  MSSubClass  LotFrontage   LotArea  OverallQual  \\\n",
      "Id             1.000000    0.011121    -0.020139 -0.037689    -0.030213   \n",
      "MSSubClass     0.011121    1.000000    -0.374402 -0.142033     0.032522   \n",
      "LotFrontage   -0.020139   -0.374402     1.000000  0.274299     0.219256   \n",
      "LotArea       -0.037689   -0.142033     0.274299  1.000000     0.091392   \n",
      "OverallQual   -0.030213    0.032522     0.219256  0.091392     1.000000   \n",
      "OverallCond    0.012925   -0.059275    -0.050705 -0.002723    -0.090442   \n",
      "YearBuilt     -0.013463    0.027757     0.110368  0.007462     0.571368   \n",
      "YearRemodAdd  -0.022694    0.040503     0.076284  0.007500     0.549827   \n",
      "MasVnrArea    -0.053184    0.022785     0.151817  0.084529     0.403421   \n",
      "BsmtFinSF1    -0.015012   -0.074434     0.133126  0.175320     0.222467   \n",
      "BsmtFinSF2    -0.005802   -0.065624     0.047341  0.114297    -0.058324   \n",
      "BsmtUnfSF     -0.007499   -0.140810     0.130456 -0.003251     0.308990   \n",
      "TotalBsmtSF   -0.025908   -0.253194     0.296287  0.223914     0.538595   \n",
      "1stFlrSF       0.003921   -0.262529     0.364954  0.269234     0.469092   \n",
      "2ndFlrSF       0.005248    0.308672     0.059698  0.041026     0.290052   \n",
      "LowQualFinSF  -0.044191    0.046486     0.040441  0.005536    -0.030129   \n",
      "GrLivArea      0.003138    0.076778     0.322398  0.232927     0.589414   \n",
      "BsmtFullBath  -0.000146    0.003294     0.068636  0.147189     0.104020   \n",
      "BsmtHalfBath  -0.020028   -0.002308    -0.004926  0.050068    -0.039435   \n",
      "FullBath       0.005750    0.131773     0.178184  0.119679     0.548420   \n",
      "HalfBath       0.006071    0.177415     0.037358  0.007363     0.270466   \n",
      "BedroomAbvGr   0.037649   -0.023455     0.246483  0.120311     0.101601   \n",
      "KitchenAbvGr   0.003078    0.281752    -0.003046 -0.016796    -0.184077   \n",
      "TotRmsAbvGrd   0.025227    0.040335     0.305575  0.175425     0.420621   \n",
      "Fireplaces    -0.023122   -0.046009     0.214797  0.261176     0.392472   \n",
      "GarageYrBlt   -0.000684    0.084992     0.057445 -0.032333     0.546673   \n",
      "GarageCars     0.016863   -0.040248     0.276904  0.152484     0.600741   \n",
      "GarageArea     0.014316   -0.099790     0.302471  0.163680     0.557230   \n",
      "WoodDeckSF    -0.030262   -0.012681     0.069811  0.168621     0.236753   \n",
      "OpenPorchSF   -0.002115   -0.006659     0.105055  0.061861     0.297186   \n",
      "EnclosedPorch  0.003103   -0.012002     0.014333 -0.016505    -0.113176   \n",
      "3SsnPorch     -0.046600   -0.043813     0.066042  0.021362     0.030991   \n",
      "ScreenPorch    0.001491   -0.026004     0.042121  0.045288     0.066298   \n",
      "PoolArea       0.048476    0.008090     0.100311  0.036491     0.044758   \n",
      "MiscVal       -0.006195   -0.007675     0.000600  0.039072    -0.031238   \n",
      "MoSold         0.023511   -0.013581     0.023932  0.005744     0.072531   \n",
      "YrSold         0.000378   -0.021386     0.006792 -0.013699    -0.026575   \n",
      "SalePrice     -0.021673   -0.084276     0.352688  0.268179     0.795774   \n",
      "\n",
      "               OverallCond  YearBuilt  YearRemodAdd  MasVnrArea  BsmtFinSF1  \\\n",
      "Id                0.012925  -0.013463     -0.022694   -0.053184   -0.015012   \n",
      "MSSubClass       -0.059275   0.027757      0.040503    0.022785   -0.074434   \n",
      "LotFrontage      -0.050705   0.110368      0.076284    0.151817    0.133126   \n",
      "LotArea          -0.002723   0.007462      0.007500    0.084529    0.175320   \n",
      "OverallQual      -0.090442   0.571368      0.549827    0.403421    0.222467   \n",
      "OverallCond       1.000000  -0.375572      0.074615   -0.126669   -0.042987   \n",
      "YearBuilt        -0.375572   1.000000      0.592105    0.312832    0.249818   \n",
      "YearRemodAdd      0.074615   0.592105      1.000000    0.175677    0.123039   \n",
      "MasVnrArea       -0.126669   0.312832      0.175677    1.000000    0.239168   \n",
      "BsmtFinSF1       -0.042987   0.249818      0.123039    0.239168    1.000000   \n",
      "BsmtFinSF2        0.040034  -0.048683     -0.067377   -0.071523   -0.049622   \n",
      "BsmtUnfSF        -0.136723   0.148836      0.180958    0.114406   -0.522303   \n",
      "TotalBsmtSF      -0.174931   0.400266      0.294941    0.343687    0.467624   \n",
      "1stFlrSF         -0.144717   0.281253      0.238769    0.322969    0.395113   \n",
      "2ndFlrSF          0.030504   0.006968      0.137423    0.166203   -0.164290   \n",
      "LowQualFinSF      0.025414  -0.183770     -0.062289   -0.069118   -0.066658   \n",
      "GrLivArea        -0.077423   0.194397      0.286758    0.371256    0.142196   \n",
      "BsmtFullBath     -0.053674   0.185012      0.116804    0.075503    0.658507   \n",
      "BsmtHalfBath      0.117676  -0.037804     -0.011977    0.028190    0.073754   \n",
      "FullBath         -0.193473   0.467146      0.437927    0.271494    0.047811   \n",
      "HalfBath         -0.059971   0.241123      0.181788    0.197218   -0.009175   \n",
      "BedroomAbvGr      0.013099  -0.070992     -0.040869    0.102977   -0.114992   \n",
      "KitchenAbvGr     -0.087170  -0.174630     -0.149406   -0.036885   -0.083043   \n",
      "TotRmsAbvGrd     -0.055782   0.091220      0.188418    0.269217    0.011020   \n",
      "Fireplaces       -0.022406   0.144982      0.109898    0.241262    0.243002   \n",
      "GarageYrBlt      -0.323776   0.825317      0.641604    0.249091    0.148446   \n",
      "GarageCars       -0.185275   0.537301      0.419882    0.363091    0.229077   \n",
      "GarageArea       -0.150503   0.477998      0.370000    0.362983    0.273244   \n",
      "WoodDeckSF       -0.002675   0.223700      0.204591    0.156532    0.204993   \n",
      "OpenPorchSF      -0.029800   0.184116      0.222790    0.104809    0.072717   \n",
      "EnclosedPorch     0.070120  -0.387093     -0.193551   -0.109421   -0.103853   \n",
      "3SsnPorch         0.025426   0.031578      0.045504    0.019585    0.029177   \n",
      "ScreenPorch       0.054632  -0.049972     -0.038360    0.063476    0.068389   \n",
      "PoolArea          0.002321  -0.005171     -0.003426   -0.020570    0.052981   \n",
      "MiscVal           0.068728  -0.034273     -0.010160   -0.029649    0.004741   \n",
      "MoSold           -0.003735   0.012975      0.022020   -0.004238   -0.004281   \n",
      "YrSold            0.043795  -0.013250      0.036145   -0.007097    0.015767   \n",
      "SalePrice        -0.077948   0.523608      0.507717    0.482719    0.409384   \n",
      "\n",
      "               ...  WoodDeckSF  OpenPorchSF  EnclosedPorch  3SsnPorch  \\\n",
      "Id             ...   -0.030262    -0.002115       0.003103  -0.046600   \n",
      "MSSubClass     ...   -0.012681    -0.006659      -0.012002  -0.043813   \n",
      "LotFrontage    ...    0.069811     0.105055       0.014333   0.066042   \n",
      "LotArea        ...    0.168621     0.061861      -0.016505   0.021362   \n",
      "OverallQual    ...    0.236753     0.297186      -0.113176   0.030991   \n",
      "OverallCond    ...   -0.002675    -0.029800       0.070120   0.025426   \n",
      "YearBuilt      ...    0.223700     0.184116      -0.387093   0.031578   \n",
      "YearRemodAdd   ...    0.204591     0.222790      -0.193551   0.045504   \n",
      "MasVnrArea     ...    0.156532     0.104809      -0.109421   0.019585   \n",
      "BsmtFinSF1     ...    0.204993     0.072717      -0.103853   0.029177   \n",
      "BsmtFinSF2     ...    0.068312     0.004974       0.036406  -0.030041   \n",
      "BsmtUnfSF      ...   -0.005609     0.128917      -0.002422   0.020806   \n",
      "TotalBsmtSF    ...    0.234476     0.215140      -0.096773   0.040921   \n",
      "1stFlrSF       ...    0.235439     0.178859      -0.064247   0.059521   \n",
      "2ndFlrSF       ...    0.089902     0.197938       0.063211  -0.024107   \n",
      "LowQualFinSF   ...   -0.025305     0.019292       0.061028  -0.004315   \n",
      "GrLivArea      ...    0.247120     0.302569       0.012976   0.022520   \n",
      "BsmtFullBath   ...    0.173360     0.056548      -0.049070   0.000225   \n",
      "BsmtHalfBath   ...    0.040495    -0.024176      -0.008675   0.035077   \n",
      "FullBath       ...    0.186147     0.252678      -0.114558   0.035715   \n",
      "HalfBath       ...    0.106685     0.195162      -0.094818  -0.004782   \n",
      "BedroomAbvGr   ...    0.046673     0.094190       0.041656  -0.024452   \n",
      "KitchenAbvGr   ...   -0.089916    -0.069810       0.037213  -0.024635   \n",
      "TotRmsAbvGrd   ...    0.163218     0.220052       0.005700  -0.006235   \n",
      "Fireplaces     ...    0.198294     0.160924      -0.023879   0.011657   \n",
      "GarageYrBlt    ...    0.223401     0.224420      -0.296733   0.023772   \n",
      "GarageCars     ...    0.225462     0.209968      -0.151110   0.035957   \n",
      "GarageArea     ...    0.222482     0.228246      -0.121194   0.035880   \n",
      "WoodDeckSF     ...    1.000000     0.053686      -0.125616  -0.032642   \n",
      "OpenPorchSF    ...    0.053686     1.000000      -0.092212  -0.005191   \n",
      "EnclosedPorch  ...   -0.125616    -0.092212       1.000000  -0.037366   \n",
      "3SsnPorch      ...   -0.032642    -0.005191      -0.037366   1.000000   \n",
      "ScreenPorch    ...   -0.073884     0.077150      -0.083009  -0.031481   \n",
      "PoolArea       ...    0.069100     0.032920       0.060101  -0.007417   \n",
      "MiscVal        ...   -0.009445    -0.018308       0.018319   0.000340   \n",
      "MoSold         ...    0.021509     0.072416      -0.029097   0.029483   \n",
      "YrSold         ...    0.022579    -0.056537      -0.010035   0.018610   \n",
      "SalePrice      ...    0.324758     0.321142      -0.128646   0.044568   \n",
      "\n",
      "               ScreenPorch  PoolArea   MiscVal    MoSold    YrSold  SalePrice  \n",
      "Id                0.001491  0.048476 -0.006195  0.023511  0.000378  -0.021673  \n",
      "MSSubClass       -0.026004  0.008090 -0.007675 -0.013581 -0.021386  -0.084276  \n",
      "LotFrontage       0.042121  0.100311  0.000600  0.023932  0.006792   0.352688  \n",
      "LotArea           0.045288  0.036491  0.039072  0.005744 -0.013699   0.268179  \n",
      "OverallQual       0.066298  0.044758 -0.031238  0.072531 -0.026575   0.795774  \n",
      "OverallCond       0.054632  0.002321  0.068728 -0.003735  0.043795  -0.077948  \n",
      "YearBuilt        -0.049972 -0.005171 -0.034273  0.012975 -0.013250   0.523608  \n",
      "YearRemodAdd     -0.038360 -0.003426 -0.010160  0.022020  0.036145   0.507717  \n",
      "MasVnrArea        0.063476 -0.020570 -0.029649 -0.004238 -0.007097   0.482719  \n",
      "BsmtFinSF1        0.068389  0.052981  0.004741 -0.004281  0.015767   0.409384  \n",
      "BsmtFinSF2        0.088774  0.046350  0.004905 -0.015362  0.031618  -0.011422  \n",
      "BsmtUnfSF        -0.012494 -0.034936 -0.023813  0.033997 -0.040953   0.214460  \n",
      "TotalBsmtSF       0.092574  0.036089 -0.018514  0.025775 -0.014880   0.651153  \n",
      "1stFlrSF          0.095042  0.062756 -0.021045  0.040558 -0.012810   0.631530  \n",
      "2ndFlrSF          0.041504  0.074258  0.016497  0.034665 -0.027775   0.320532  \n",
      "LowQualFinSF      0.026756  0.066428 -0.003807 -0.022268 -0.028964  -0.025625  \n",
      "GrLivArea         0.107768  0.115999 -0.001637  0.057296 -0.035971   0.734968  \n",
      "BsmtFullBath      0.024003  0.045344 -0.022880 -0.022423  0.067479   0.228459  \n",
      "BsmtHalfBath      0.032035  0.023126 -0.007396  0.032838 -0.046611  -0.016881  \n",
      "FullBath         -0.007496  0.045656 -0.014122  0.054756 -0.018697   0.562165  \n",
      "HalfBath          0.072960  0.013097  0.001439 -0.008563 -0.009880   0.284590  \n",
      "BedroomAbvGr      0.044363  0.072999  0.007787  0.046705 -0.035966   0.168245  \n",
      "KitchenAbvGr     -0.051696 -0.013481  0.062318  0.026554  0.031623  -0.135946  \n",
      "TotRmsAbvGrd      0.060920  0.059728  0.025297  0.039221 -0.033901   0.537769  \n",
      "Fireplaces        0.186238  0.068655  0.001676  0.051142 -0.024315   0.469862  \n",
      "GarageYrBlt      -0.075022 -0.025763 -0.032304  0.005932 -0.000625   0.487156  \n",
      "GarageCars        0.050909  0.019446 -0.043004  0.039520 -0.038494   0.641047  \n",
      "GarageArea        0.053015  0.026642 -0.027236  0.032470 -0.027209   0.629217  \n",
      "WoodDeckSF       -0.073884  0.069100 -0.009445  0.021509  0.022579   0.324758  \n",
      "OpenPorchSF       0.077150  0.032920 -0.018308  0.072416 -0.056537   0.321142  \n",
      "EnclosedPorch    -0.083009  0.060101  0.018319 -0.029097 -0.010035  -0.128646  \n",
      "3SsnPorch        -0.031481 -0.007417  0.000340  0.029483  0.018610   0.044568  \n",
      "ScreenPorch       1.000000  0.056293  0.031915  0.023151  0.010608   0.111415  \n",
      "PoolArea          0.056293  1.000000  0.031965 -0.018601 -0.064030   0.099490  \n",
      "MiscVal           0.031915  0.031965  1.000000 -0.006544  0.004878  -0.021203  \n",
      "MoSold            0.023151 -0.018601 -0.006544  1.000000 -0.145267   0.046124  \n",
      "YrSold            0.010608 -0.064030  0.004878 -0.145267  1.000000  -0.028882  \n",
      "SalePrice         0.111415  0.099490 -0.021203  0.046124 -0.028882   1.000000  \n",
      "\n",
      "[38 rows x 38 columns]\n"
     ]
    }
   ],
   "source": [
    "# Correlation Matrix (numeric only)\n",
    "corr_matrix = df.corr(numeric_only=True)\n",
    "print(\"\\nCorrelation Matrix:\\n\", corr_matrix)"
   ]
  },
  {
   "cell_type": "markdown",
   "id": "bf89e0e8-035d-4a7a-9f57-60c09dec9dae",
   "metadata": {},
   "source": [
    "**Assignment 4 – Correlation Analysis**"
   ]
  },
  {
   "cell_type": "markdown",
   "id": "f90de15f-6139-46d6-a7f3-0ce50744ec9a",
   "metadata": {},
   "source": [
    " **1. Find correlations with the target (SalePrice or price depending on your dataset):**"
   ]
  },
  {
   "cell_type": "code",
   "execution_count": 18,
   "id": "d26d4f26-42af-4402-9512-3bfb90389537",
   "metadata": {},
   "outputs": [
    {
     "name": "stdout",
     "output_type": "stream",
     "text": [
      "\n",
      "Correlation with SalePrice:\n",
      " SalePrice        1.000000\n",
      "OverallQual      0.795774\n",
      "GrLivArea        0.734968\n",
      "TotalBsmtSF      0.651153\n",
      "GarageCars       0.641047\n",
      "1stFlrSF         0.631530\n",
      "GarageArea       0.629217\n",
      "FullBath         0.562165\n",
      "TotRmsAbvGrd     0.537769\n",
      "YearBuilt        0.523608\n",
      "YearRemodAdd     0.507717\n",
      "GarageYrBlt      0.487156\n",
      "MasVnrArea       0.482719\n",
      "Fireplaces       0.469862\n",
      "BsmtFinSF1       0.409384\n",
      "LotFrontage      0.352688\n",
      "WoodDeckSF       0.324758\n",
      "OpenPorchSF      0.321142\n",
      "2ndFlrSF         0.320532\n",
      "HalfBath         0.284590\n",
      "LotArea          0.268179\n",
      "BsmtFullBath     0.228459\n",
      "BsmtUnfSF        0.214460\n",
      "BedroomAbvGr     0.168245\n",
      "ScreenPorch      0.111415\n",
      "PoolArea         0.099490\n",
      "MoSold           0.046124\n",
      "3SsnPorch        0.044568\n",
      "BsmtFinSF2      -0.011422\n",
      "BsmtHalfBath    -0.016881\n",
      "MiscVal         -0.021203\n",
      "Id              -0.021673\n",
      "LowQualFinSF    -0.025625\n",
      "YrSold          -0.028882\n",
      "OverallCond     -0.077948\n",
      "MSSubClass      -0.084276\n",
      "EnclosedPorch   -0.128646\n",
      "KitchenAbvGr    -0.135946\n",
      "Name: SalePrice, dtype: float64\n"
     ]
    }
   ],
   "source": [
    "target_corr = corr_matrix['SalePrice'].sort_values(ascending=False)\n",
    "print(\"\\nCorrelation with SalePrice:\\n\", target_corr)"
   ]
  },
  {
   "cell_type": "markdown",
   "id": "2bfbdbf4-dc6d-4515-b0d5-79fc43d44fd5",
   "metadata": {},
   "source": [
    "**2. Top 3 related features (excluding SalePrice itself):**"
   ]
  },
  {
   "cell_type": "code",
   "execution_count": 23,
   "id": "cdba9b30-ec79-41bb-87ac-9babafd59618",
   "metadata": {},
   "outputs": [
    {
     "name": "stdout",
     "output_type": "stream",
     "text": [
      "\n",
      "Top 3 features most related to SalePrice:\n",
      " OverallQual    0.795774\n",
      "GrLivArea      0.734968\n",
      "TotalBsmtSF    0.651153\n",
      "Name: SalePrice, dtype: float64\n"
     ]
    }
   ],
   "source": [
    "top_features = target_corr.drop('SalePrice').head(3)\n",
    "print(\"\\nTop 3 features most related to SalePrice:\\n\", top_features)"
   ]
  },
  {
   "cell_type": "markdown",
   "id": "ba8a750d-5bba-40d4-916e-cb4d6e718be5",
   "metadata": {},
   "source": [
    "<h1 align=\"center\">Analysis of House Price Dataset Findings</h1>\n",
    "\n",
    "The three features most strongly related to SalePrice are:\n",
    "\n",
    "**1. OverallQual** (0.79) – Better construction/finish quality significantly increases price.\n",
    "\n",
    "**2. GrLivArea** (0.71) – Larger living area drives higher prices.\n",
    "\n",
    "**3. GarageCars** (0.64) – Number of cars the garage can hold is positively correlated with price."
   ]
  }
 ],
 "metadata": {
  "kernelspec": {
   "display_name": "Python 3 (ipykernel)",
   "language": "python",
   "name": "python3"
  },
  "language_info": {
   "codemirror_mode": {
    "name": "ipython",
    "version": 3
   },
   "file_extension": ".py",
   "mimetype": "text/x-python",
   "name": "python",
   "nbconvert_exporter": "python",
   "pygments_lexer": "ipython3",
   "version": "3.12.3"
  }
 },
 "nbformat": 4,
 "nbformat_minor": 5
}
